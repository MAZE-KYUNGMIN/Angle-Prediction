{
  "nbformat": 4,
  "nbformat_minor": 0,
  "metadata": {
    "colab": {
      "name": "VGG16",
      "provenance": [],
      "collapsed_sections": [],
      "machine_shape": "hm",
      "include_colab_link": true
    },
    "kernelspec": {
      "name": "python3",
      "display_name": "Python 3"
    },
    "language_info": {
      "name": "python"
    },
    "accelerator": "GPU"
  },
  "cells": [
    {
      "cell_type": "markdown",
      "metadata": {
        "id": "view-in-github",
        "colab_type": "text"
      },
      "source": [
        "<a href=\"https://colab.research.google.com/github/epochee/Angle-Prediction/blob/main/VGG16.ipynb\" target=\"_parent\"><img src=\"https://colab.research.google.com/assets/colab-badge.svg\" alt=\"Open In Colab\"/></a>"
      ]
    },
    {
      "cell_type": "markdown",
      "metadata": {
        "id": "dCL_uLnb3MhZ"
      },
      "source": [
        "# **데이터 레이블링**\n",
        "\n",
        "\n"
      ]
    },
    {
      "cell_type": "code",
      "metadata": {
        "id": "2mI1EvQoiD-s"
      },
      "source": [
        "import cv2\n",
        "import os"
      ],
      "execution_count": 1,
      "outputs": []
    },
    {
      "cell_type": "code",
      "metadata": {
        "id": "ZM0PV6dgkL30"
      },
      "source": [
        "for j in range(0,360):      # 주어진 데이터를 1도씩 돌려 360개의 레이블링                  \n",
        "  path = '/content/drive/MyDrive/data/train'\n",
        "  path2 = '/content/drive/MyDrive/t_v_data/train/'\n",
        "  file_list = os.listdir(path)\n",
        "  file_list_py = [file for file in file_list if file.endswith('.png')]\n",
        "  a=0\n",
        "  new_dir = os.mkdir(path2+str(j))\n",
        "  for i in file_list_py:\n",
        "    image = cv2.imread(path+'/'+i)\n",
        "    rows, cols = image.shape[:2]\n",
        "    M = cv2.getRotationMatrix2D((cols/2,rows/2),j,0.57)\n",
        "    dst = cv2.warpAffine(image,M,(cols,rows), None, cv2.INTER_LINEAR, cv2.BORDER_CONSTANT, (255,255,255))\n",
        "    gray_array = cv2.cvtColor(dst, cv2.COLOR_BGR2GRAY)\n",
        "    img_blurred = cv2.GaussianBlur(gray_array, ksize=(5, 5), sigmaX=0) #가우시안블러를 통해 노이즈제거 효과\n",
        "\n",
        "    img_thresh = cv2.adaptiveThreshold(  #쓰레쉬홀드로 이진화\n",
        "        img_blurred, \n",
        "        maxValue=255.0, \n",
        "        adaptiveMethod=cv2.ADAPTIVE_THRESH_GAUSSIAN_C, \n",
        "        thresholdType=cv2.THRESH_BINARY, \n",
        "        blockSize=19, \n",
        "        C=9\n",
        "    )\n",
        "    cv2.imwrite(path2+str(j),img_thresh) # 이미지 이진화 후 저장\n",
        "    a+=1\n",
        "    if a == 2000: \n",
        "      break\n",
        "\n"
      ],
      "execution_count": null,
      "outputs": []
    },
    {
      "cell_type": "code",
      "metadata": {
        "id": "bgNdTc9TVN47"
      },
      "source": [
        "for j in range(0,360):\n",
        "  path = '/content/drive/MyDrive/data/train'\n",
        "  path2 = '/content/drive/MyDrive/t_v_data/val/'\n",
        "  file_list = os.listdir(path)\n",
        "  file_list_py = [file for file in file_list if file.endswith('.png')]\n",
        "  new_dir = os.mkdir(path2+str(j))\n",
        "  file_list_py = file_list_py.reverse() # train 데이터와 중복되지않기위해서 file리스트 뒤집기\n",
        "  a=0\n",
        "  for i in file_list_py:\n",
        "    image = cv2.imread(path+'/'+i)\n",
        "    rows, cols = image.shape[:2]\n",
        "    M = cv2.getRotationMatrix2D((cols/2,rows/2),j,0.57)\n",
        "    dst = cv2.warpAffine(image,M,(cols,rows), None, cv2.INTER_LINEAR, cv2.BORDER_CONSTANT, (255,255,255))\n",
        "    gray_array = cv2.cvtColor(dst, cv2.COLOR_BGR2GRAY)\n",
        "    img_blurred = cv2.GaussianBlur(gray_array, ksize=(5, 5), sigmaX=0)\n",
        "\n",
        "    img_thresh = cv2.adaptiveThreshold(\n",
        "        img_blurred, \n",
        "        maxValue=255.0, \n",
        "        adaptiveMethod=cv2.ADAPTIVE_THRESH_GAUSSIAN_C, \n",
        "        thresholdType=cv2.THRESH_BINARY_INV, \n",
        "        blockSize=19, \n",
        "        C=9\n",
        "    )\n",
        "    cv2.imwrite(path2+str(j),img_thresh)\n",
        "    a+=1\n",
        "    if a==500:\n",
        "      break\n"
      ],
      "execution_count": null,
      "outputs": []
    },
    {
      "cell_type": "markdown",
      "metadata": {
        "id": "7vhN8VEuvYUU"
      },
      "source": [
        "이미지 전처리 및 vgg16모델 학습"
      ]
    },
    {
      "cell_type": "code",
      "metadata": {
        "id": "o6w_js3n3qit"
      },
      "source": [
        "from google.colab.patches import cv2_imshow\n",
        "from tensorflow import keras\n",
        "from keras.preprocessing.image import ImageDataGenerator\n",
        "import numpy as np\n",
        "from keras import layers\n",
        "from keras.preprocessing import image\n",
        "import seaborn as sns\n",
        "from tensorflow.keras.applications.vgg16 import VGG16\t\n",
        "import tensorflow as tf\n",
        "from tensorflow.keras.models import Sequential \n",
        "from tensorflow.keras.layers import Dense,Dropout,Activation,Add,MaxPooling2D,Conv2D,Flatten,BatchNormalization\n",
        "from tensorflow.keras.optimizers import Adam\n",
        "import matplotlib.pyplot as plt\n",
        "from tensorflow.keras import Model\n",
        "from tensorflow.keras.preprocessing.image import array_to_img, img_to_array, load_img,ImageDataGenerator"
      ],
      "execution_count": null,
      "outputs": []
    },
    {
      "cell_type": "code",
      "metadata": {
        "id": "ojwkbf9QRVi5"
      },
      "source": [
        "base_dir = '/content/drive/MyDrive/data_8_o'\n",
        "train_dir = os.path.join(base_dir,'train')\n",
        "val_dir = os.path.join(base_dir,'val')"
      ],
      "execution_count": null,
      "outputs": []
    },
    {
      "cell_type": "code",
      "metadata": {
        "id": "PU_NPakj1L9r"
      },
      "source": [
        "classes = os.listdir(train_dir)"
      ],
      "execution_count": null,
      "outputs": []
    },
    {
      "cell_type": "code",
      "metadata": {
        "id": "jJXM1aWARVnX"
      },
      "source": [
        "train_generator = tf.keras.preprocessing.image.ImageDataGenerator(      # 이미지 증강\n",
        "    width_shift_range = 0.2,  \n",
        "    height_shift_range = 0.2,\n",
        "    zoom_range = 0.2,\n",
        "    rescale = 1. / 255,\n",
        "    fill_mode='nearest')\n",
        "\n",
        "\n",
        "img_path='/content/drive/MyDrive/train_val_data/train/0/000978.png.png'          \n",
        "img = load_img(img_path,target_size=(224,224))\n",
        "x = img_to_array(img)\n",
        "x = x.reshape((1, )+x.shape)\n",
        "\n",
        "\n",
        "i = 0   \n",
        "for batch in generator.flow(x,batch_size=1):                            # 증강시킨 이미지 보기\n",
        "  plt.figure(i)\n",
        "  imgplot = plt.imshow(array_to_img(batch[0]))\n",
        "  i+=1\n",
        "  if i%10==0:\n",
        "    break"
      ],
      "execution_count": null,
      "outputs": []
    },
    {
      "cell_type": "code",
      "metadata": {
        "id": "oH2WdBONRVsT"
      },
      "source": [
        "input_shape = (224,224,3) # vgg16 input_shape\n",
        "\n",
        "train_datagen = tf.keras.preprocessing.image.ImageDataGenerator(     # 이미지 증강\n",
        "    width_shift_range = 0.2,\n",
        "    height_shift_range = 0.2,\n",
        "    zoom_range = 0.2,\n",
        "    rescale = 1. / 255,\n",
        "    fill_mode='nearest')\n",
        "\n",
        "\n",
        "train_generator = train_datagen.flow_from_directory(\n",
        "    train_dir,\n",
        "    target_size=(224,224),\n",
        "    batch_size = 32,\n",
        "    class_mode = 'categorical'\n",
        ")\n",
        "\n",
        "val_datagen = tf.keras.preprocessing.image.ImageDataGenerator(\n",
        "    rescale = 1. / 255,\n",
        ")\n",
        "\n",
        "val_generator = val_datagen.flow_from_directory(\n",
        "    val_dir,\n",
        "    target_size=(224,224),\n",
        "    batch_size = 32,\n",
        "    class_mode = 'categorical'\n",
        ")"
      ],
      "execution_count": null,
      "outputs": []
    },
    {
      "cell_type": "code",
      "metadata": {
        "id": "L0joHOHJMbyC"
      },
      "source": [
        "from tensorflow.keras.models import Model\n",
        "from tensorflow import keras"
      ],
      "execution_count": null,
      "outputs": []
    },
    {
      "cell_type": "code",
      "metadata": {
        "id": "qnL4zxz5MKyq"
      },
      "source": [
        "vgg = VGG16(weights='imagenet',input_shape=input_shape,include_top=False)  #vgg16 전이학습\n",
        "output = vgg.layers[-1].output\n",
        "output = keras.layers.Flatten()(output)\n",
        "vgg_model = Model(vgg.input, output)\n",
        "\n",
        "vgg_model.trainable = True\n",
        "set_trainable = False\n",
        "# ,'block4_conv1'\n",
        "for layer in vgg_model.layers:              # 전이학습 가중치 미세튜닝(마지막블록 가중치학습가능하게만듬)\n",
        "  if layer.name in ['block5_conv1']:\n",
        "    set_trainable = True\n",
        "  if set_trainable:\n",
        "    layer.trainable = True\n",
        "  else:\n",
        "    layer.trainable = False"
      ],
      "execution_count": null,
      "outputs": []
    },
    {
      "cell_type": "code",
      "metadata": {
        "colab": {
          "base_uri": "https://localhost:8080/",
          "height": 669
        },
        "id": "_Rx026fxOxt0",
        "outputId": "8335eeb6-84c5-490e-8e94-cf943ab78227"
      },
      "source": [
        "import pandas as pd \n",
        "\n",
        "layers = [(layer, layer.name, layer. trainable)for layer in vgg_model.layers]  # 가중치 학습 가능한 레이어보기\n",
        "pd.DataFrame(layers, columns=['Type','Name', 'Trainable'])"
      ],
      "execution_count": null,
      "outputs": [
        {
          "output_type": "execute_result",
          "data": {
            "text/html": [
              "<div>\n",
              "<style scoped>\n",
              "    .dataframe tbody tr th:only-of-type {\n",
              "        vertical-align: middle;\n",
              "    }\n",
              "\n",
              "    .dataframe tbody tr th {\n",
              "        vertical-align: top;\n",
              "    }\n",
              "\n",
              "    .dataframe thead th {\n",
              "        text-align: right;\n",
              "    }\n",
              "</style>\n",
              "<table border=\"1\" class=\"dataframe\">\n",
              "  <thead>\n",
              "    <tr style=\"text-align: right;\">\n",
              "      <th></th>\n",
              "      <th>Type</th>\n",
              "      <th>Name</th>\n",
              "      <th>Trainable</th>\n",
              "    </tr>\n",
              "  </thead>\n",
              "  <tbody>\n",
              "    <tr>\n",
              "      <th>0</th>\n",
              "      <td>&lt;keras.engine.input_layer.InputLayer object at...</td>\n",
              "      <td>input_9</td>\n",
              "      <td>False</td>\n",
              "    </tr>\n",
              "    <tr>\n",
              "      <th>1</th>\n",
              "      <td>&lt;keras.layers.convolutional.Conv2D object at 0...</td>\n",
              "      <td>block1_conv1</td>\n",
              "      <td>False</td>\n",
              "    </tr>\n",
              "    <tr>\n",
              "      <th>2</th>\n",
              "      <td>&lt;keras.layers.convolutional.Conv2D object at 0...</td>\n",
              "      <td>block1_conv2</td>\n",
              "      <td>False</td>\n",
              "    </tr>\n",
              "    <tr>\n",
              "      <th>3</th>\n",
              "      <td>&lt;keras.layers.pooling.MaxPooling2D object at 0...</td>\n",
              "      <td>block1_pool</td>\n",
              "      <td>False</td>\n",
              "    </tr>\n",
              "    <tr>\n",
              "      <th>4</th>\n",
              "      <td>&lt;keras.layers.convolutional.Conv2D object at 0...</td>\n",
              "      <td>block2_conv1</td>\n",
              "      <td>False</td>\n",
              "    </tr>\n",
              "    <tr>\n",
              "      <th>5</th>\n",
              "      <td>&lt;keras.layers.convolutional.Conv2D object at 0...</td>\n",
              "      <td>block2_conv2</td>\n",
              "      <td>False</td>\n",
              "    </tr>\n",
              "    <tr>\n",
              "      <th>6</th>\n",
              "      <td>&lt;keras.layers.pooling.MaxPooling2D object at 0...</td>\n",
              "      <td>block2_pool</td>\n",
              "      <td>False</td>\n",
              "    </tr>\n",
              "    <tr>\n",
              "      <th>7</th>\n",
              "      <td>&lt;keras.layers.convolutional.Conv2D object at 0...</td>\n",
              "      <td>block3_conv1</td>\n",
              "      <td>False</td>\n",
              "    </tr>\n",
              "    <tr>\n",
              "      <th>8</th>\n",
              "      <td>&lt;keras.layers.convolutional.Conv2D object at 0...</td>\n",
              "      <td>block3_conv2</td>\n",
              "      <td>False</td>\n",
              "    </tr>\n",
              "    <tr>\n",
              "      <th>9</th>\n",
              "      <td>&lt;keras.layers.convolutional.Conv2D object at 0...</td>\n",
              "      <td>block3_conv3</td>\n",
              "      <td>False</td>\n",
              "    </tr>\n",
              "    <tr>\n",
              "      <th>10</th>\n",
              "      <td>&lt;keras.layers.pooling.MaxPooling2D object at 0...</td>\n",
              "      <td>block3_pool</td>\n",
              "      <td>False</td>\n",
              "    </tr>\n",
              "    <tr>\n",
              "      <th>11</th>\n",
              "      <td>&lt;keras.layers.convolutional.Conv2D object at 0...</td>\n",
              "      <td>block4_conv1</td>\n",
              "      <td>False</td>\n",
              "    </tr>\n",
              "    <tr>\n",
              "      <th>12</th>\n",
              "      <td>&lt;keras.layers.convolutional.Conv2D object at 0...</td>\n",
              "      <td>block4_conv2</td>\n",
              "      <td>False</td>\n",
              "    </tr>\n",
              "    <tr>\n",
              "      <th>13</th>\n",
              "      <td>&lt;keras.layers.convolutional.Conv2D object at 0...</td>\n",
              "      <td>block4_conv3</td>\n",
              "      <td>False</td>\n",
              "    </tr>\n",
              "    <tr>\n",
              "      <th>14</th>\n",
              "      <td>&lt;keras.layers.pooling.MaxPooling2D object at 0...</td>\n",
              "      <td>block4_pool</td>\n",
              "      <td>False</td>\n",
              "    </tr>\n",
              "    <tr>\n",
              "      <th>15</th>\n",
              "      <td>&lt;keras.layers.convolutional.Conv2D object at 0...</td>\n",
              "      <td>block5_conv1</td>\n",
              "      <td>True</td>\n",
              "    </tr>\n",
              "    <tr>\n",
              "      <th>16</th>\n",
              "      <td>&lt;keras.layers.convolutional.Conv2D object at 0...</td>\n",
              "      <td>block5_conv2</td>\n",
              "      <td>True</td>\n",
              "    </tr>\n",
              "    <tr>\n",
              "      <th>17</th>\n",
              "      <td>&lt;keras.layers.convolutional.Conv2D object at 0...</td>\n",
              "      <td>block5_conv3</td>\n",
              "      <td>True</td>\n",
              "    </tr>\n",
              "    <tr>\n",
              "      <th>18</th>\n",
              "      <td>&lt;keras.layers.pooling.MaxPooling2D object at 0...</td>\n",
              "      <td>block5_pool</td>\n",
              "      <td>True</td>\n",
              "    </tr>\n",
              "    <tr>\n",
              "      <th>19</th>\n",
              "      <td>&lt;keras.layers.core.flatten.Flatten object at 0...</td>\n",
              "      <td>flatten_8</td>\n",
              "      <td>True</td>\n",
              "    </tr>\n",
              "  </tbody>\n",
              "</table>\n",
              "</div>"
            ],
            "text/plain": [
              "                                                 Type          Name  Trainable\n",
              "0   <keras.engine.input_layer.InputLayer object at...       input_9      False\n",
              "1   <keras.layers.convolutional.Conv2D object at 0...  block1_conv1      False\n",
              "2   <keras.layers.convolutional.Conv2D object at 0...  block1_conv2      False\n",
              "3   <keras.layers.pooling.MaxPooling2D object at 0...   block1_pool      False\n",
              "4   <keras.layers.convolutional.Conv2D object at 0...  block2_conv1      False\n",
              "5   <keras.layers.convolutional.Conv2D object at 0...  block2_conv2      False\n",
              "6   <keras.layers.pooling.MaxPooling2D object at 0...   block2_pool      False\n",
              "7   <keras.layers.convolutional.Conv2D object at 0...  block3_conv1      False\n",
              "8   <keras.layers.convolutional.Conv2D object at 0...  block3_conv2      False\n",
              "9   <keras.layers.convolutional.Conv2D object at 0...  block3_conv3      False\n",
              "10  <keras.layers.pooling.MaxPooling2D object at 0...   block3_pool      False\n",
              "11  <keras.layers.convolutional.Conv2D object at 0...  block4_conv1      False\n",
              "12  <keras.layers.convolutional.Conv2D object at 0...  block4_conv2      False\n",
              "13  <keras.layers.convolutional.Conv2D object at 0...  block4_conv3      False\n",
              "14  <keras.layers.pooling.MaxPooling2D object at 0...   block4_pool      False\n",
              "15  <keras.layers.convolutional.Conv2D object at 0...  block5_conv1       True\n",
              "16  <keras.layers.convolutional.Conv2D object at 0...  block5_conv2       True\n",
              "17  <keras.layers.convolutional.Conv2D object at 0...  block5_conv3       True\n",
              "18  <keras.layers.pooling.MaxPooling2D object at 0...   block5_pool       True\n",
              "19  <keras.layers.core.flatten.Flatten object at 0...     flatten_8       True"
            ]
          },
          "metadata": {},
          "execution_count": 101
        }
      ]
    },
    {
      "cell_type": "code",
      "metadata": {
        "id": "ZO6S5a28-w5F"
      },
      "source": [
        "#모델학습\n",
        "\n",
        "model = Sequential()\n",
        "model.add(vgg_model)\n",
        "model.add(Dense(512,input_dim=input_shape, activation='relu'))\n",
        "model.add(Dropout(0.2))\n",
        "model.add(Dense(360,activation='softmax'))\n",
        "\n",
        "model.compile(loss='categorical_crossentropy',\n",
        "              optimizer=Adam(3e-4),\n",
        "              metrics=['accuracy'])"
      ],
      "execution_count": null,
      "outputs": []
    },
    {
      "cell_type": "code",
      "metadata": {
        "id": "OZyT1ZUvRVwv"
      },
      "source": [
        "history_o = model.fit_generator(train_generator,\n",
        "                    epochs=20,\n",
        "                    validation_data=val_generator,\n",
        "                    verbose=1)"
      ],
      "execution_count": null,
      "outputs": []
    },
    {
      "cell_type": "markdown",
      "metadata": {
        "id": "x8s9pTCzG5wZ"
      },
      "source": [
        "# **시각화**"
      ]
    },
    {
      "cell_type": "code",
      "metadata": {
        "colab": {
          "base_uri": "https://localhost:8080/",
          "height": 281
        },
        "id": "atJY2gvRRVy4",
        "outputId": "12187695-9d23-424e-fefb-f989d3949d98"
      },
      "source": [
        "accuracy_t_b = history_t_b.history['accuracy']\n",
        "val_accuracy_t_b = history_t_b.history['val_accuracy']\n",
        "loss_t_b = history_t_b.history['loss']\n",
        "val_loss_t_b = history_t_b.history['val_loss']\n",
        "accuracy_t_w = history_t_w.history['accuracy']\n",
        "val_accuracy_t_w = history_t_w.history['val_accuracy']\n",
        "loss_t_w = history_t_w.history['loss']\n",
        "val_loss_t_w = history_t_w.history['val_loss']\n",
        "accuracy_o = history_o.history['accuracy']\n",
        "val_accuracy_o = history_o.history['val_accuracy']\n",
        "loss_o = history_o.history['loss']\n",
        "val_loss_o = history_o.history['val_loss']\n",
        "epochs = range(1,len(accuracy_t_b)+1)\n",
        "\n",
        "plt.plot(epochs,accuracy_t_b, 'C4', label='Threshold black background')\n",
        "plt.plot(epochs,accuracy_t_w, 'C8', label='Threshold White background')\n",
        "plt.plot(epochs,accuracy_o, 'C9', label='Origin')\n",
        "plt.title('Accuracy')\n",
        "plt.grid()\n",
        "plt.legend()\n",
        "\n",
        "# plt.figure()\n",
        "# plt.plot(epochs,accuracy, 'b--', label='Train Accuracy')\n",
        "# plt.plot(epochs,val_accuracy, 'r--', label='Validation Accuracy')\n",
        "# plt.title('Training and Validation Accuracy')\n",
        "# plt.grid()\n",
        "# plt.legend()\n",
        "\n",
        "plt.show()"
      ],
      "execution_count": null,
      "outputs": [
        {
          "output_type": "display_data",
          "data": {
            "image/png": "[encoded data removed]",
            "text/plain": [
              "<Figure size 432x288 with 1 Axes>"
            ]
          },
          "metadata": {
            "needs_background": "light"
          }
        }
      ]
    },
    {
      "cell_type": "code",
      "metadata": {
        "colab": {
          "base_uri": "https://localhost:8080/",
          "height": 281
        },
        "id": "ceDOGV6c5TYW",
        "outputId": "5e75b550-76fa-4ac1-e9bb-e0b68237d387"
      },
      "source": [
        "plt.plot(epochs,loss_t_b, 'C4', label='Threshold black background')\n",
        "plt.plot(epochs,loss_t_w, 'C8', label='Threshold White background')\n",
        "plt.plot(epochs,loss_o, 'C9', label='Origin')\n",
        "plt.title('Loss')\n",
        "plt.grid()\n",
        "plt.legend()\n",
        "\n",
        "plt.show()"
      ],
      "execution_count": null,
      "outputs": [
        {
          "output_type": "display_data",
          "data": {
            "image/png": "[encoded data removed]",
            "text/plain": [
              "<Figure size 432x288 with 1 Axes>"
            ]
          },
          "metadata": {
            "needs_background": "light"
          }
        }
      ]
    },
    {
      "cell_type": "code",
      "metadata": {
        "colab": {
          "base_uri": "https://localhost:8080/",
          "height": 281
        },
        "id": "096bD6zDpt63",
        "outputId": "bbf8397e-d2a8-46cb-831f-c28d294f89e4"
      },
      "source": [
        "plt.plot(epochs,val_loss_t_b, 'C4', label='Threshold black background')\n",
        "plt.plot(epochs,val_loss_t_w, 'C8', label='Threshold White background')\n",
        "plt.plot(epochs,val_loss_o, 'C9', label='Origin')\n",
        "plt.title('Val Loss')\n",
        "plt.grid()\n",
        "plt.legend()\n",
        "\n",
        "plt.show()"
      ],
      "execution_count": null,
      "outputs": [
        {
          "output_type": "display_data",
          "data": {
            "image/png": "[encoded data removed]",
            "text/plain": [
              "<Figure size 432x288 with 1 Axes>"
            ]
          },
          "metadata": {
            "needs_background": "light"
          }
        }
      ]
    },
    {
      "cell_type": "code",
      "metadata": {
        "colab": {
          "base_uri": "https://localhost:8080/",
          "height": 281
        },
        "id": "wdnyeTgqpyD-",
        "outputId": "26a0ea4e-b026-4d6c-f3a8-27713b92cae2"
      },
      "source": [
        "plt.plot(epochs,accuracy_600, 'C4', label='600 size')\n",
        "plt.plot(epochs,accuracy_448, 'C8', label='448 size')\n",
        "plt.plot(epochs,accuracy_224, 'C9', label='224 size')\n",
        "plt.title('Loss')\n",
        "plt.grid()\n",
        "plt.legend()\n",
        "\n",
        "plt.show()"
      ],
      "execution_count": null,
      "outputs": [
        {
          "output_type": "display_data",
          "data": {
            "image/png": "[encoded data removed]",
            "text/plain": [
              "<Figure size 432x288 with 1 Axes>"
            ]
          },
          "metadata": {
            "needs_background": "light"
          }
        }
      ]
    },
    {
      "cell_type": "code",
      "metadata": {
        "colab": {
          "base_uri": "https://localhost:8080/",
          "height": 281
        },
        "id": "ALDWHYfLpzXa",
        "outputId": "72defc05-16da-4310-fc74-8d456c9401b1"
      },
      "source": [
        "plt.plot(epochs,accuracy_600, 'C4', label='600 size')\n",
        "plt.plot(epochs,accuracy_448, 'C8', label='448 size')\n",
        "plt.plot(epochs,accuracy_224, 'C9', label='224 size')\n",
        "plt.title('Val Loss')\n",
        "plt.grid()\n",
        "plt.legend()\n",
        "\n",
        "plt.show()"
      ],
      "execution_count": null,
      "outputs": [
        {
          "output_type": "display_data",
          "data": {
            "image/png": "[encoded data removed]",
            "text/plain": [
              "<Figure size 432x288 with 1 Axes>"
            ]
          },
          "metadata": {
            "needs_background": "light"
          }
        }
      ]
    },
    {
      "cell_type": "code",
      "metadata": {
        "id": "yj6jkW_RZ080"
      },
      "source": [
        "model.save('vgg16_1.h5')  #모델을 편하게 사용하기위해 저장"
      ],
      "execution_count": null,
      "outputs": []
    },
    {
      "cell_type": "markdown",
      "metadata": {
        "id": "S6w71FGIHhdA"
      },
      "source": [
        "# **모델 사용**"
      ]
    },
    {
      "cell_type": "code",
      "metadata": {
        "id": "iZm_-5vSoNBX"
      },
      "source": [
        "from tensorflow.keras.models import load_model\n",
        "from tensorflow.keras.preprocessing import image"
      ],
      "execution_count": null,
      "outputs": []
    },
    {
      "cell_type": "code",
      "metadata": {
        "id": "r4rDLXZAnrRu"
      },
      "source": [
        "model = load_model('/content/vgg16_1.h5')  # 저장한 모델가져오기"
      ],
      "execution_count": null,
      "outputs": []
    },
    {
      "cell_type": "code",
      "metadata": {
        "id": "JMrOmAYBe_tY"
      },
      "source": [
        "img_path = '/content/drive/MyDrive/train_val_data/train/315/000978.png.png'\n",
        "img = image.load_img(img_path,target_size=(224,224))\n",
        "img_arr = image.img_to_array(img)\n",
        "img_arr = img_arr[np.newaxis, ...]\n",
        "img_arr /= 255.\n",
        "\n",
        "print(img_arr.shape)\n",
        "\n",
        "predict_x=model.predict(img_arr) \n",
        "classes_x=np.argmax(predict_x,axis=1)\n",
        "# print(predict_x)\n",
        "print(classes_x)"
      ],
      "execution_count": null,
      "outputs": []
    },
    {
      "cell_type": "code",
      "metadata": {
        "id": "AXV7wm13R_N8"
      },
      "source": [
        "import os\n",
        "import cv2\n",
        "import matplotlib.pyplot as plt\n",
        "import numpy as np\n",
        "\n",
        "test_img_path = '/content/drive/MyDrive/data/test_samples/test.png'\n",
        "\n",
        "img = cv2.imread('/content/drive/MyDrive/data2/180/000019.png') # 영수증# 기본\n",
        "gray_array = cv2.cvtColor(img, cv2.COLOR_BGR2GRAY)\n",
        "img_blurred = cv2.GaussianBlur(gray_array, ksize=(5, 5), sigmaX=0) #가우시안블러를 통해 노이즈제거 효과\n",
        "\n",
        "img_thresh = cv2.adaptiveThreshold(  #쓰레쉬홀드로 검은부분과 흰부분으로 나눔\n",
        "    img_blurred, \n",
        "    maxValue=255.0, \n",
        "    adaptiveMethod=cv2.ADAPTIVE_THRESH_GAUSSIAN_C, \n",
        "    thresholdType=cv2.THRESH_BINARY_INV, \n",
        "    blockSize=19, \n",
        "    C=9\n",
        ")\n",
        "\n",
        "\n",
        "plt.figure(figsize=(12, 10))\n",
        "plt.imshow(img_thresh, cmap='gray')\n",
        "print(img_thresh)\n",
        "print(img_thresh.shape)\n",
        "cv2.imwrite(test_img_path,img_thresh)\n",
        "\n",
        "\n",
        "img = image.load_img(test_img_path,target_size=(224,224))\n",
        "img_arr = image.img_to_array(img)\n",
        "img_arr = img_arr[np.newaxis, ...]\n",
        "img_arr /= 255.\n",
        "\n",
        "print(img_arr.shape)\n",
        "\n",
        "predict_x=model.predict(img_arr) \n",
        "classes_x=np.argmax(predict_x,axis=1)\n",
        "# print(predict_x)\n",
        "print(classes_x)\n",
        "\n",
        "os.remove(test_img_path)"
      ],
      "execution_count": null,
      "outputs": []
    },
    {
      "cell_type": "code",
      "metadata": {
        "id": "wO1CAn0Q7fw4"
      },
      "source": [
        "import os\n",
        "import cv2\n",
        "import matplotlib.pyplot as plt\n",
        "import numpy as np\n",
        "\n",
        "\n",
        "test_img_path = '/content/drive/MyDrive/data/test_samples/test.png'\n",
        "\n",
        "img = cv2.imread('/content/drive/MyDrive/data/test_samples/easyset/3.png') # 영수증# 기본\n",
        "gray_array = cv2.cvtColor(img, cv2.COLOR_BGR2GRAY)\n",
        "img_blurred = cv2.GaussianBlur(gray_array, ksize=(5, 5), sigmaX=0) #가우시안블러를 통해 노이즈제거 효과\n",
        "\n",
        "img_thresh = cv2.adaptiveThreshold(  #쓰레쉬홀드로 검은부분과 흰부분으로 나눔\n",
        "    img_blurred, \n",
        "    maxValue=255.0, \n",
        "    adaptiveMethod=cv2.ADAPTIVE_THRESH_GAUSSIAN_C, \n",
        "    thresholdType=cv2.THRESH_BINARY, \n",
        "    blockSize=19, \n",
        "    C=9\n",
        ")\n",
        "\n",
        "\n",
        "plt.figure(figsize=(12, 10))\n",
        "plt.imshow(img_thresh, cmap='gray')\n",
        "print(img_thresh)\n",
        "print(img_thresh.shape)"
      ],
      "execution_count": null,
      "outputs": []
    },
    {
      "cell_type": "code",
      "metadata": {
        "id": "cj2wgB_0UuZ9"
      },
      "source": [
        "import cv2\n",
        "\n",
        "img = cv2.imread('/content/drive/MyDrive/data/test_samples/easyset/3.png') # 영수증# 기본\n",
        "gray_array = cv2.cvtColor(img, cv2.COLOR_BGR2GRAY)\n",
        "img_blurred = cv2.GaussianBlur(gray_array, ksize=(5, 5), sigmaX=0) #가우시안블러를 통해 노이즈제거 효과\n",
        "\n",
        "ret,img_thresh = cv2.threshold(  #쓰레쉬홀드로 검은부분과 흰부분으로 나눔\n",
        "    img_blurred, \n",
        "    95,\n",
        "    255,\n",
        "    cv2.THRESH_TOZERO\n",
        ")\n",
        "\n",
        "plt.figure(figsize=(12, 10))\n",
        "plt.imshow(img_thresh, cmap='gray')\n",
        "print(img_thresh)\n",
        "print(img_thresh.shape)"
      ],
      "execution_count": null,
      "outputs": []
    },
    {
      "cell_type": "code",
      "metadata": {
        "id": "vQG8AZ1R5t6A"
      },
      "source": [
        "img_path = '/content/drive/MyDrive/data4/135/000000.png'\n",
        "img = cv2.imread(img_path)\n",
        "img = cv2.resize(img,(300,300))\n",
        "# img = image.load_img(img_path,target_size=(300,300))\n",
        "gray_array = cv2.cvtColor(img, cv2.COLOR_BGR2GRAY)\n",
        "img_blurred = cv2.GaussianBlur(gray_array, ksize=(5, 5), sigmaX=0) #가우시안블러를 통해 노이즈제거 효과\n",
        "\n",
        "img_thresh = cv2.adaptiveThreshold(  #쓰레쉬홀드로 검은부분과 흰부분으로 나눔\n",
        "    img_blurred, \n",
        "    maxValue=255.0, \n",
        "    adaptiveMethod=cv2.ADAPTIVE_THRESH_GAUSSIAN_C, \n",
        "    thresholdType=cv2.THRESH_BINARY_INV, \n",
        "    blockSize=19, \n",
        "    C=9\n",
        ")\n",
        "\n",
        "img_arr = image.img_to_array(img_thresh)\n",
        "# img_arr = tf.image.rgb_to_grayscale(img_arr)\n",
        "img_arr = img_arr[np.newaxis, ...]\n",
        "img_arr /= 255.\n",
        "\n",
        "print(img_arr.shape)\n",
        "\n",
        "predict_x=model.predict(img_arr) \n",
        "classes_x=np.argmax(predict_x,axis=1)\n",
        "# print(predict_x)\n",
        "print(classes_x)"
      ],
      "execution_count": null,
      "outputs": []
    },
    {
      "cell_type": "code",
      "metadata": {
        "id": "bST2EnOegP1M"
      },
      "source": [
        "predict_x=model.predict(img_arr) \n",
        "classes_x=np.argmax(predict_x,axis=1)"
      ],
      "execution_count": null,
      "outputs": []
    },
    {
      "cell_type": "code",
      "metadata": {
        "id": "NJsAKm_0g_bV"
      },
      "source": [
        "classes_x"
      ],
      "execution_count": null,
      "outputs": []
    }
  ]
}